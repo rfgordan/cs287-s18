{
 "cells": [
  {
   "cell_type": "markdown",
   "metadata": {
    "deletable": true,
    "editable": true
   },
   "source": [
    "# Getting setup in Azure\n",
    "\n",
    "Once your account has been setup by a TF, use the following steps to get setup in Azure with a GPU."
   ]
  },
  {
   "cell_type": "markdown",
   "metadata": {
    "deletable": true,
    "editable": true
   },
   "source": [
    "First create a new machine by clicking the +. Next search for \"Caffe Python 3.6 NVidia GPU Production on Ubuntu\" and select that machine. "
   ]
  },
  {
   "cell_type": "markdown",
   "metadata": {
    "deletable": true,
    "editable": true
   },
   "source": [
    "<img src=\"figs/zero.png\">\n",
    "\n",
    "Be sure to add it to the West 2 region and pick HDD. Also give it a name and your SSH public key (see https://kb.iu.edu/d/aews)"
   ]
  },
  {
   "cell_type": "markdown",
   "metadata": {
    "deletable": true,
    "editable": true
   },
   "source": [
    "<img src=\"figs/first.png\">"
   ]
  },
  {
   "cell_type": "markdown",
   "metadata": {
    "deletable": true,
    "editable": true
   },
   "source": [
    "Next pick the smallest GPU machine machine. You will have to select HDD and then \"View All\" It should be called NC6\n",
    "\n"
   ]
  },
  {
   "cell_type": "markdown",
   "metadata": {
    "deletable": true,
    "editable": true
   },
   "source": [
    "<img src=\"figs/second.png\">"
   ]
  },
  {
   "cell_type": "markdown",
   "metadata": {
    "deletable": true,
    "editable": true
   },
   "source": [
    "In the settings tab, you may want to open up some ports. For instance if you want to run visualizations or ipython notebook, you can open up port 8888"
   ]
  },
  {
   "cell_type": "markdown",
   "metadata": {
    "deletable": true,
    "editable": true
   },
   "source": [
    "<img src=\"figs/third.png\">"
   ]
  },
  {
   "cell_type": "markdown",
   "metadata": {
    "deletable": true,
    "editable": true
   },
   "source": [
    "When you are finished, wait about five minutes until the machine launches. "
   ]
  },
  {
   "cell_type": "markdown",
   "metadata": {
    "deletable": true,
    "editable": true
   },
   "source": [
    "Click on the machine to get the public IP address. Please also be sure to shut down the machine when not in use. "
   ]
  },
  {
   "cell_type": "markdown",
   "metadata": {
    "deletable": true,
    "editable": true
   },
   "source": [
    "<img src=\"figs/fifth.png\">"
   ]
  },
  {
   "cell_type": "markdown",
   "metadata": {
    "deletable": true,
    "editable": true
   },
   "source": [
    "You should now be able to ssh into the machine directly using \n",
    "\n",
    "> ssh user@publicip"
   ]
  },
  {
   "cell_type": "markdown",
   "metadata": {
    "deletable": true,
    "editable": true
   },
   "source": [
    "To access the python setup on this machine, you need to be a bit hacky. I ran the following commands: \n",
    "\n",
    "> bash\n",
    "\n",
    "> wget http://developer.download.nvidia.com/compute/cuda/repos/ubuntu1604/x86_64/cuda-repo-ubuntu1604_9.1.85-1_amd64.deb\n",
    "\n",
    "> sudo dpkg -i cuda-repo-ubuntu1604_9.1.85-1_amd64.deb\n",
    "\n",
    "> sudo apt-get update\n",
    "\n",
    "> sudo apt-get install cuda\n",
    "\n",
    "Wait about 20 minutes\n",
    "\n",
    "> sudo apt-get install python3-pip\n",
    "\n",
    "> sudo pip3 install http://download.pytorch.org/whl/cu90/torch-0.3.0.post4-cp35-cp35m-linux_x86_64.whl\n",
    "\n",
    "\n",
    "Check now that running `python3` gives you version 3.5, and that you can `import torch` and run `torch.LongTensor([1,2,3]).cuda()`\n",
    "\n",
    "> sudo pip3 install torchtext"
   ]
  },
  {
   "cell_type": "code",
   "execution_count": null,
   "metadata": {
    "collapsed": true
   },
   "outputs": [],
   "source": []
  }
 ],
 "metadata": {
  "kernelspec": {
   "display_name": "Python 3",
   "language": "python",
   "name": "python3"
  },
  "language_info": {
   "codemirror_mode": {
    "name": "ipython",
    "version": 3
   },
   "file_extension": ".py",
   "mimetype": "text/x-python",
   "name": "python",
   "nbconvert_exporter": "python",
   "pygments_lexer": "ipython3",
   "version": "3.6.3"
  }
 },
 "nbformat": 4,
 "nbformat_minor": 2
}
