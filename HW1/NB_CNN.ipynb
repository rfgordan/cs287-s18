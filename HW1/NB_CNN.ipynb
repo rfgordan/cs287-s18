{
 "cells": [
  {
   "cell_type": "markdown",
   "metadata": {},
   "source": [
    "# HW 1 Classification"
   ]
  },
  {
   "cell_type": "markdown",
   "metadata": {},
   "source": [
    "In this homework you will be building several varieties of text classifiers.\n",
    "\n",
    "## Goal\n",
    "\n",
    "We ask that you construct the following models in PyTorch:\n",
    "\n",
    "1. A naive Bayes unigram classifer (follow Wang and Manning http://www.aclweb.org/anthology/P/P12/P12-2.pdf#page=118: you should only implement Naive Bayes, not the combined classifer with SVM).\n",
    "2. A logistic regression model over word types (you can implement this as $y = \\sigma(\\sum_i W x_i + b)$) \n",
    "3. A continuous bag-of-word neural network with embeddings (similar to CBOW in Mikolov et al https://arxiv.org/pdf/1301.3781.pdf).\n",
    "4. A simple convolutional neural network (any variant of CNN as described in Kim http://aclweb.org/anthology/D/D14/D14-1181.pdf).\n",
    "5. Your own extensions to these models...\n",
    "\n",
    "Consult the papers provided for hyperparameters. \n"
   ]
  },
  {
   "cell_type": "markdown",
   "metadata": {},
   "source": [
    "## Setup\n",
    "\n",
    "This notebook provides a working definition of the setup of the problem itself. You may construct your models inline or use an external setup (preferred) to build your system."
   ]
  },
  {
   "cell_type": "code",
   "execution_count": 4,
   "metadata": {
    "collapsed": true
   },
   "outputs": [],
   "source": [
    "# Text text processing library and methods for pretrained word embeddings\n",
    "import torch\n",
    "import numpy as np\n",
    "import torchtext\n",
    "from torchtext.vocab import Vectors, GloVe\n",
    "import torch.autograd as autograd\n",
    "from torch.autograd import Variable\n",
    "import torch.nn as nn\n",
    "import torch.nn.functional as F\n",
    "import torch.optim as optim\n",
    "import time"
   ]
  },
  {
   "cell_type": "markdown",
   "metadata": {},
   "source": [
    "The dataset we will use of this problem is known as the Stanford Sentiment Treebank (https://nlp.stanford.edu/~socherr/EMNLP2013_RNTN.pdf). It is a variant of a standard sentiment classification task. For simplicity, we will use the most basic form. Classifying a sentence as positive or negative in sentiment. "
   ]
  },
  {
   "cell_type": "markdown",
   "metadata": {},
   "source": [
    "To start, `torchtext` requires that we define a mapping from the raw text data to featurized indices. These fields make it easy to map back and forth between readable data and math, which helps for debugging."
   ]
  },
  {
   "cell_type": "code",
   "execution_count": 5,
   "metadata": {},
   "outputs": [],
   "source": [
    "# Our input $x$\n",
    "TEXT = torchtext.data.Field()\n",
    "\n",
    "# Our labels $y$\n",
    "LABEL = torchtext.data.Field(sequential=False)"
   ]
  },
  {
   "cell_type": "markdown",
   "metadata": {},
   "source": [
    "Next we input our data. Here we will use the standard SST train split, and tell it the fields."
   ]
  },
  {
   "cell_type": "code",
   "execution_count": 6,
   "metadata": {
    "collapsed": true
   },
   "outputs": [],
   "source": [
    "train, val, test = torchtext.datasets.SST.splits(\n",
    "    TEXT, LABEL,\n",
    "    filter_pred=lambda ex: ex.label != 'neutral')"
   ]
  },
  {
   "cell_type": "markdown",
   "metadata": {},
   "source": [
    "Let's look at this data. It's still in its original form, we can see that each example consists of a label and the original words."
   ]
  },
  {
   "cell_type": "code",
   "execution_count": 7,
   "metadata": {},
   "outputs": [
    {
     "data": {
      "text/plain": [
       "{'label': 'positive',\n",
       " 'text': ['The',\n",
       "  'Rock',\n",
       "  'is',\n",
       "  'destined',\n",
       "  'to',\n",
       "  'be',\n",
       "  'the',\n",
       "  '21st',\n",
       "  'Century',\n",
       "  \"'s\",\n",
       "  'new',\n",
       "  '``',\n",
       "  'Conan',\n",
       "  \"''\",\n",
       "  'and',\n",
       "  'that',\n",
       "  'he',\n",
       "  \"'s\",\n",
       "  'going',\n",
       "  'to',\n",
       "  'make',\n",
       "  'a',\n",
       "  'splash',\n",
       "  'even',\n",
       "  'greater',\n",
       "  'than',\n",
       "  'Arnold',\n",
       "  'Schwarzenegger',\n",
       "  ',',\n",
       "  'Jean-Claud',\n",
       "  'Van',\n",
       "  'Damme',\n",
       "  'or',\n",
       "  'Steven',\n",
       "  'Segal',\n",
       "  '.']}"
      ]
     },
     "execution_count": 7,
     "metadata": {},
     "output_type": "execute_result"
    }
   ],
   "source": [
    "vars(train[0])"
   ]
  },
  {
   "cell_type": "code",
   "execution_count": 8,
   "metadata": {},
   "outputs": [
    {
     "name": "stdout",
     "output_type": "stream",
     "text": [
      "len(train) 6920\n",
      "vars(train[0]) {'text': ['The', 'Rock', 'is', 'destined', 'to', 'be', 'the', '21st', 'Century', \"'s\", 'new', '``', 'Conan', \"''\", 'and', 'that', 'he', \"'s\", 'going', 'to', 'make', 'a', 'splash', 'even', 'greater', 'than', 'Arnold', 'Schwarzenegger', ',', 'Jean-Claud', 'Van', 'Damme', 'or', 'Steven', 'Segal', '.'], 'label': 'positive'}\n"
     ]
    }
   ],
   "source": [
    "print('len(train)', len(train))\n",
    "print('vars(train[0])', vars(train[0]))"
   ]
  },
  {
   "cell_type": "markdown",
   "metadata": {},
   "source": [
    "In order to map this data to features, we need to assign an index to each word an label. The function build vocab allows us to do this and provides useful options that we will need in future assignments."
   ]
  },
  {
   "cell_type": "code",
   "execution_count": 9,
   "metadata": {},
   "outputs": [
    {
     "name": "stdout",
     "output_type": "stream",
     "text": [
      "len(TEXT.vocab) 16284\n",
      "len(LABEL.vocab) 3\n"
     ]
    }
   ],
   "source": [
    "TEXT.build_vocab(train)\n",
    "LABEL.build_vocab(train)\n",
    "print('len(TEXT.vocab)', len(TEXT.vocab))\n",
    "print('len(LABEL.vocab)', len(LABEL.vocab))"
   ]
  },
  {
   "cell_type": "markdown",
   "metadata": {},
   "source": [
    "Finally we are ready to create batches of our training data that can be used for training and validating the model. This function produces 3 iterators that will let us go through the train, val and test data. "
   ]
  },
  {
   "cell_type": "code",
   "execution_count": 10,
   "metadata": {
    "collapsed": true
   },
   "outputs": [],
   "source": [
    "train_iter, val_iter, test_iter = torchtext.data.BucketIterator.splits((train, val, test), batch_size=10, device=-1, repeat=False)"
   ]
  },
  {
   "cell_type": "markdown",
   "metadata": {},
   "source": [
    "Let's look at a single batch from one of these iterators. The library automatically converts the underlying words into indices. It then produces tensors for batches of x and y. In this case it will consist of the number of words of the longest sentence (with padding) followed by the number of batches. We can use the vocabulary dictionary to convert back from these indices to words."
   ]
  },
  {
   "cell_type": "code",
   "execution_count": 11,
   "metadata": {},
   "outputs": [
    {
     "name": "stdout",
     "output_type": "stream",
     "text": [
      "Size of text batch [max sent length, batch size] torch.Size([20, 10])\n",
      "Second in batch Variable containing:\n",
      "  1266\n",
      "     6\n",
      "     4\n",
      "    18\n",
      "     9\n",
      "    48\n",
      "  2207\n",
      "   286\n",
      "    11\n",
      "   237\n",
      "     4\n",
      " 14201\n",
      "  6813\n",
      "   853\n",
      "    89\n",
      "    27\n",
      "     7\n",
      "   682\n",
      "  3447\n",
      "     2\n",
      "[torch.LongTensor of size 20]\n",
      "\n",
      "Converted back to string:  Viewers will need all the luck they can muster just figuring out who 's who in this pretentious mess .\n"
     ]
    }
   ],
   "source": [
    "batch = next(iter(train_iter))\n",
    "print(\"Size of text batch [max sent length, batch size]\", batch.text.size())\n",
    "print(\"Second in batch\", batch.text[:, 0])\n",
    "print(\"Converted back to string: \", \" \".join([TEXT.vocab.itos[i] for i in batch.text[:, 7].data]))"
   ]
  },
  {
   "cell_type": "markdown",
   "metadata": {},
   "source": [
    "Similarly it produces a vector for each of the labels in the batch. "
   ]
  },
  {
   "cell_type": "code",
   "execution_count": 12,
   "metadata": {},
   "outputs": [
    {
     "name": "stdout",
     "output_type": "stream",
     "text": [
      "Size of label batch [batch size] torch.Size([10])\n",
      "Second in batch Variable containing:\n",
      " 2\n",
      "[torch.LongTensor of size 1]\n",
      "\n",
      "Converted back to string:  negative\n"
     ]
    }
   ],
   "source": [
    "print(\"Size of label batch [batch size]\", batch.label.size())\n",
    "print(\"Second in batch\", batch.label[3])\n",
    "print(\"Converted back to string: \", LABEL.vocab.itos[batch.label.data[3]])"
   ]
  },
  {
   "cell_type": "markdown",
   "metadata": {},
   "source": [
    "Finally the Vocab object can be used to map pretrained word vectors to the indices in the vocabulary. This will be very useful for part 3 and 4 of the problem.  "
   ]
  },
  {
   "cell_type": "code",
   "execution_count": 13,
   "metadata": {},
   "outputs": [
    {
     "name": "stdout",
     "output_type": "stream",
     "text": [
      "Word embeddings size  torch.Size([16284, 300])\n",
      "Word embedding of 'follows', first 10 dim  \n",
      " 0.3925\n",
      "-0.4770\n",
      " 0.1754\n",
      "-0.0845\n",
      " 0.1396\n",
      " 0.3722\n",
      "-0.0878\n",
      "-0.2398\n",
      " 0.0367\n",
      " 0.2800\n",
      "[torch.FloatTensor of size 10]\n",
      "\n"
     ]
    }
   ],
   "source": [
    "# Build the vocabulary with word embeddings\n",
    "url = 'https://s3-us-west-1.amazonaws.com/fasttext-vectors/wiki.simple.vec'\n",
    "TEXT.vocab.load_vectors(vectors=Vectors('wiki.simple.vec', url=url))\n",
    "\n",
    "print(\"Word embeddings size \", TEXT.vocab.vectors.size())\n",
    "print(\"Word embedding of 'follows', first 10 dim \", TEXT.vocab.vectors[TEXT.vocab.stoi['follows']][:10])"
   ]
  },
  {
   "cell_type": "markdown",
   "metadata": {},
   "source": [
    "## Assignment\n",
    "\n",
    "Now it is your turn to build the models described at the top of the assignment. \n",
    "\n",
    "Using the data given by this iterator, you should construct 4 different torch models that take in batch.text and produce a distribution over labels. \n",
    "\n",
    "When a model is trained, use the following test function to produce predictions, and then upload to the kaggle competition:  https://www.kaggle.com/c/harvard-cs281-hw1"
   ]
  },
  {
   "cell_type": "code",
   "execution_count": 14,
   "metadata": {},
   "outputs": [
    {
     "data": {
      "text/plain": [
       "19"
      ]
     },
     "execution_count": 14,
     "metadata": {},
     "output_type": "execute_result"
    }
   ],
   "source": [
    "TEXT.vocab.stoi['but']"
   ]
  },
  {
   "cell_type": "code",
   "execution_count": 15,
   "metadata": {},
   "outputs": [
    {
     "data": {
      "text/plain": [
       "575"
      ]
     },
     "execution_count": 15,
     "metadata": {},
     "output_type": "execute_result"
    }
   ],
   "source": [
    "TEXT.vocab.stoi['despite']"
   ]
  },
  {
   "cell_type": "code",
   "execution_count": 16,
   "metadata": {},
   "outputs": [
    {
     "data": {
      "text/plain": [
       "5026"
      ]
     },
     "execution_count": 16,
     "metadata": {},
     "output_type": "execute_result"
    }
   ],
   "source": [
    "TEXT.vocab.stoi['unless']"
   ]
  },
  {
   "cell_type": "code",
   "execution_count": 17,
   "metadata": {},
   "outputs": [
    {
     "data": {
      "text/plain": [
       "195"
      ]
     },
     "execution_count": 17,
     "metadata": {},
     "output_type": "execute_result"
    }
   ],
   "source": [
    "TEXT.vocab.stoi['while']"
   ]
  },
  {
   "cell_type": "code",
   "execution_count": 18,
   "metadata": {},
   "outputs": [
    {
     "data": {
      "text/plain": [
       "1014"
      ]
     },
     "execution_count": 18,
     "metadata": {},
     "output_type": "execute_result"
    }
   ],
   "source": [
    "TEXT.vocab.stoi['however']"
   ]
  },
  {
   "cell_type": "code",
   "execution_count": 19,
   "metadata": {
    "collapsed": true
   },
   "outputs": [],
   "source": [
    "def semantic_transform(batch):\n",
    "    batch_trans = torch.t(batch.text)\n",
    "    batch_t = batch_trans.clone()\n",
    "\n",
    "    for i in range(len(batch_t)):\n",
    "        but = np.where(batch_t[i].data.numpy() == 19)[0]\n",
    "        despite = np.where(batch_t[i].data.numpy() == 575)[0]\n",
    "        unless = np.where(batch_t[i].data.numpy() == 5026)[0]\n",
    "        #whil = np.where(batch_t[i].data.numpy() == 195)[0]\n",
    "        however = np.where(batch_t[i].data.numpy() == 1014)[0]\n",
    "        if len(but) > 0:\n",
    "            batch_t[i] = torch.cat((batch_t[i][but[0] + 1:] , torch.LongTensor(np.ones(but[0]+1).astype(int))))\n",
    "        if len(despite) > 0 and despite[0] > 3:\n",
    "            batch_t[i] = torch.cat((batch_t[i][:despite[0]] , torch.LongTensor(np.ones(batch_t.size()[1] - despite[0]).astype(int))))\n",
    "        if len(unless) > 0 and unless[0] > 3:\n",
    "            batch_t[i] = torch.cat((batch_t[i][:unless[0]] , torch.LongTensor(np.ones(batch_t.size()[1] - unless[0]).astype(int))))\n",
    "        if len(however) > 0:\n",
    "            batch_t[i] = torch.cat((batch_t[i][however[0] + 1:] , torch.LongTensor(np.ones(however[0]+1).astype(int))))\n",
    "    return torch.t(batch_t)"
   ]
  },
  {
   "cell_type": "code",
   "execution_count": 43,
   "metadata": {
    "collapsed": true
   },
   "outputs": [],
   "source": [
    "# Our input $x$\n",
    "TEXT = torchtext.data.Field()\n",
    "# Our labels $y$\n",
    "LABEL = torchtext.data.Field(sequential=False)\n",
    "train, val, test = torchtext.datasets.SST.splits(\n",
    "    TEXT, LABEL,\n",
    "    filter_pred=lambda ex: ex.label != 'neutral')\n",
    "TEXT.build_vocab(train)\n",
    "LABEL.build_vocab(train)\n",
    "url = 'https://s3-us-west-1.amazonaws.com/fasttext-vectors/wiki.simple.vec'\n",
    "TEXT.vocab.load_vectors(vectors=Vectors('wiki.simple.vec', url=url))\n",
    "\n",
    "filter_sizes = [3, 4, 5]\n",
    "filter_num = 50\n",
    "dropout_rate = 0.5\n",
    "sent_length = max([len(vars(train[i])['text']) for i in range(len(train))] \n",
    "                   +[ len(vars(val[i])['text']) for i in range(len(val))] \n",
    "                  +[ len(vars(test[i])['text']) for i in range(len(test))]) + 30\n",
    "class LCA_CNN(nn.Module):\n",
    "    def __init__(self):\n",
    "        super(LCA_CNN, self).__init__()\n",
    "        self.embed = nn.Embedding(16284, 300)\n",
    "        self.embed.weight.data = TEXT.vocab.vectors\n",
    "        components = []\n",
    "        for size in filter_sizes:\n",
    "            components.append(\n",
    "            nn.Sequential(\n",
    "                nn.Conv1d(1, filter_num, size * 300, stride=300) ,\n",
    "                nn.MaxPool1d(kernel_size = sent_length - size + 1 + 30),\n",
    "            nn.Tanh())   \n",
    "            )\n",
    "        self.layers = nn.ModuleList(components)\n",
    "        self.fc = nn.Linear(filter_num * len(filter_sizes), 2)\n",
    "        self.training = True\n",
    "    def forward(self, text):\n",
    "        x = self.embed(torch.t(text))\n",
    "        x = x.view(x.size(0), 1, -1)\n",
    "        x_list= [convolve(x) for convolve in self.layers]\n",
    "        out = torch.cat(x_list, 2)\n",
    "        out = out.view(out.size(0), -1)\n",
    "        out = F.dropout(out, p=dropout_rate, training=self.training)\n",
    "        return F.log_softmax(self.fc(out)), out\n",
    "    \n",
    "    def train(self):\n",
    "        train_iter, val_iter, test_iter = torchtext.data.BucketIterator.splits(\n",
    "    (train, val, test), batch_size=10, device=-1, repeat=False)\n",
    "        loss_fn = nn.NLLLoss()\n",
    "        optimizer = optim.Adam(self.parameters())\n",
    "        for epoch in range(10):\n",
    "            tic = time.time()\n",
    "            for batch in train_iter:\n",
    "                self.training=True\n",
    "                self.zero_grad()   \n",
    "                \n",
    "                batch.text = semantic_transform(batch)\n",
    "                \n",
    "                if sent_length > batch.text.size()[0]:\n",
    "#                     padded_batch = torch.cat((batch.text ,\n",
    "#                         torch.LongTensor(np.ones((sent_length-batch.text.size()[0], batch.text.size()[1])).astype(int))))\n",
    "                    padded_batch = torch.cat((batch.text ,\n",
    "    torch.LongTensor(np.ones((sent_length-batch.text.size()[0], batch.text.size()[1])).astype(int))))\n",
    "                    padded_batch = torch.cat((torch.LongTensor(np.ones((30, batch.text.size()[1])).astype(int)), padded_batch.data))\n",
    "                else:\n",
    "                    padded_batch = batch\n",
    "                log_probs, _ = self.forward(padded_batch)\n",
    "                loss = loss_fn(log_probs, batch.label - 1)\n",
    "                loss.backward()\n",
    "                optimizer.step()\n",
    "#                 if self.fc.weight.norm().data[0] > 3:\n",
    "#                     self.fc.weight.data = self.fc.weight.data * 3 / self.fc.weight.data.norm()\n",
    "            predictions = []\n",
    "            real_labels = []\n",
    "            for batch in val_iter:\n",
    "                self.training=False  \n",
    "                \n",
    "                batch.text = semantic_transform(batch)\n",
    "                \n",
    "                if sent_length > batch.text.size()[0]:\n",
    "#                     padded_batch = torch.cat((batch.text ,\n",
    "#                         torch.LongTensor(np.ones((sent_length-batch.text.size()[0], batch.text.size()[1])).astype(int))))\n",
    "                    padded_batch = torch.cat((batch.text ,\n",
    "    torch.LongTensor(np.ones((sent_length-batch.text.size()[0], batch.text.size()[1])).astype(int))))\n",
    "                    padded_batch = torch.cat((torch.LongTensor(np.ones((30, batch.text.size()[1])).astype(int)), padded_batch.data))                \n",
    "                else:\n",
    "                    padded_batch = batch\n",
    "                log_probs, _ = self.forward(padded_batch)\n",
    "                loss = loss_fn(log_probs, batch.label - 1)\n",
    "#                 if self.fc.weight.norm().data[0] > 3:\n",
    "#                     self.fc.weight.data = self.fc.weight.data * 3 / self.fc.weight.data.norm()\n",
    "                preds = torch.max(log_probs, 1)[1]\n",
    "                predictions += list(preds.data.numpy())\n",
    "                real_labels += list(batch.label.data.numpy() - 1)                \n",
    "            eval_acc = 1.0 * np.sum(np.array(predictions) == np.array(real_labels))/ len(predictions)\n",
    "            print('[epoch: {:d}] train_loss: {:.3f}   acc: {:.3f}   ({:.1f}s)'.format(epoch, loss.data[0], eval_acc, time.time()-tic) )\n"
   ]
  },
  {
   "cell_type": "code",
   "execution_count": 44,
   "metadata": {
    "collapsed": true
   },
   "outputs": [],
   "source": [
    "model_2 = LCA_CNN()"
   ]
  },
  {
   "cell_type": "code",
   "execution_count": 45,
   "metadata": {},
   "outputs": [
    {
     "name": "stdout",
     "output_type": "stream",
     "text": [
      "[epoch: 0] train_loss: 0.750   acc: 0.786   (97.9s)\n",
      "[epoch: 1] train_loss: 0.607   acc: 0.791   (127.8s)\n",
      "[epoch: 2] train_loss: 0.145   acc: 0.798   (130.9s)\n"
     ]
    },
    {
     "ename": "KeyboardInterrupt",
     "evalue": "",
     "output_type": "error",
     "traceback": [
      "\u001b[0;31m---------------------------------------------------------------------------\u001b[0m",
      "\u001b[0;31mKeyboardInterrupt\u001b[0m                         Traceback (most recent call last)",
      "\u001b[0;32m<ipython-input-45-6b81bd494aee>\u001b[0m in \u001b[0;36m<module>\u001b[0;34m()\u001b[0m\n\u001b[0;32m----> 1\u001b[0;31m \u001b[0mmodel_2\u001b[0m\u001b[0;34m.\u001b[0m\u001b[0mtrain\u001b[0m\u001b[0;34m(\u001b[0m\u001b[0;34m)\u001b[0m\u001b[0;34m\u001b[0m\u001b[0m\n\u001b[0m",
      "\u001b[0;32m<ipython-input-43-f4c0743f5509>\u001b[0m in \u001b[0;36mtrain\u001b[0;34m(self)\u001b[0m\n\u001b[1;32m     66\u001b[0m                 \u001b[0mloss\u001b[0m \u001b[0;34m=\u001b[0m \u001b[0mloss_fn\u001b[0m\u001b[0;34m(\u001b[0m\u001b[0mlog_probs\u001b[0m\u001b[0;34m,\u001b[0m \u001b[0mbatch\u001b[0m\u001b[0;34m.\u001b[0m\u001b[0mlabel\u001b[0m \u001b[0;34m-\u001b[0m \u001b[0;36m1\u001b[0m\u001b[0;34m)\u001b[0m\u001b[0;34m\u001b[0m\u001b[0m\n\u001b[1;32m     67\u001b[0m                 \u001b[0mloss\u001b[0m\u001b[0;34m.\u001b[0m\u001b[0mbackward\u001b[0m\u001b[0;34m(\u001b[0m\u001b[0;34m)\u001b[0m\u001b[0;34m\u001b[0m\u001b[0m\n\u001b[0;32m---> 68\u001b[0;31m                 \u001b[0moptimizer\u001b[0m\u001b[0;34m.\u001b[0m\u001b[0mstep\u001b[0m\u001b[0;34m(\u001b[0m\u001b[0;34m)\u001b[0m\u001b[0;34m\u001b[0m\u001b[0m\n\u001b[0m\u001b[1;32m     69\u001b[0m \u001b[0;31m#                 if self.fc.weight.norm().data[0] > 3:\u001b[0m\u001b[0;34m\u001b[0m\u001b[0;34m\u001b[0m\u001b[0m\n\u001b[1;32m     70\u001b[0m \u001b[0;31m#                     self.fc.weight.data = self.fc.weight.data * 3 / self.fc.weight.data.norm()\u001b[0m\u001b[0;34m\u001b[0m\u001b[0;34m\u001b[0m\u001b[0m\n",
      "\u001b[0;32m/Library/Frameworks/Python.framework/Versions/3.5/lib/python3.5/site-packages/torch/optim/adam.py\u001b[0m in \u001b[0;36mstep\u001b[0;34m(self, closure)\u001b[0m\n\u001b[1;32m     72\u001b[0m                 \u001b[0mstep_size\u001b[0m \u001b[0;34m=\u001b[0m \u001b[0mgroup\u001b[0m\u001b[0;34m[\u001b[0m\u001b[0;34m'lr'\u001b[0m\u001b[0;34m]\u001b[0m \u001b[0;34m*\u001b[0m \u001b[0mmath\u001b[0m\u001b[0;34m.\u001b[0m\u001b[0msqrt\u001b[0m\u001b[0;34m(\u001b[0m\u001b[0mbias_correction2\u001b[0m\u001b[0;34m)\u001b[0m \u001b[0;34m/\u001b[0m \u001b[0mbias_correction1\u001b[0m\u001b[0;34m\u001b[0m\u001b[0m\n\u001b[1;32m     73\u001b[0m \u001b[0;34m\u001b[0m\u001b[0m\n\u001b[0;32m---> 74\u001b[0;31m                 \u001b[0mp\u001b[0m\u001b[0;34m.\u001b[0m\u001b[0mdata\u001b[0m\u001b[0;34m.\u001b[0m\u001b[0maddcdiv_\u001b[0m\u001b[0;34m(\u001b[0m\u001b[0;34m-\u001b[0m\u001b[0mstep_size\u001b[0m\u001b[0;34m,\u001b[0m \u001b[0mexp_avg\u001b[0m\u001b[0;34m,\u001b[0m \u001b[0mdenom\u001b[0m\u001b[0;34m)\u001b[0m\u001b[0;34m\u001b[0m\u001b[0m\n\u001b[0m\u001b[1;32m     75\u001b[0m \u001b[0;34m\u001b[0m\u001b[0m\n\u001b[1;32m     76\u001b[0m         \u001b[0;32mreturn\u001b[0m \u001b[0mloss\u001b[0m\u001b[0;34m\u001b[0m\u001b[0m\n",
      "\u001b[0;31mKeyboardInterrupt\u001b[0m: "
     ]
    }
   ],
   "source": [
    "model_2.train()"
   ]
  },
  {
   "cell_type": "code",
   "execution_count": 21,
   "metadata": {
    "collapsed": true
   },
   "outputs": [],
   "source": [
    "def to_1hot(sentence):\n",
    "    _1hot = torch.zeros(len(TEXT.vocab))\n",
    "    for word in sentence.data:\n",
    "        _1hot[word] = 1\n",
    "        \n",
    "    return _1hot"
   ]
  },
  {
   "cell_type": "code",
   "execution_count": 33,
   "metadata": {
    "collapsed": true
   },
   "outputs": [],
   "source": [
    "class NB_uni():\n",
    "    def __init__(self, vocab_size):\n",
    "        self.p = nn.Embedding(vocab_size,1)\n",
    "        self.q = nn.Embedding(vocab_size,1)\n",
    "        self.p.weight.data = torch.Tensor(np.ones(vocab_size))\n",
    "        self.q.weight.data = torch.Tensor(np.ones(vocab_size))\n",
    "        self.N_plus = 0\n",
    "        self.N_minus = 0\n",
    "\n",
    "    def forward(self, text):\n",
    "        w = torch.log((self.p.weight / torch.sum(torch.abs(self.p.weight))) /  (self.q.weight / torch.sum(torch.abs(self.q.weight)))).data\n",
    "        b = np.log(self.N_plus / self.N_minus)\n",
    "        output = []\n",
    "        sentences = torch.t(text)\n",
    "        for sent in sentences:\n",
    "            x = torch.from_numpy(np.unique(sent.data.numpy()))\n",
    "            summed = torch.sum(w[x], dim=0)\n",
    "            output.append(int(torch.sign(summed + b)[0]))\n",
    "        return output\n",
    "    \n",
    "    def predict(self, text):\n",
    "        predicts = []\n",
    "        text = Variable(torch.LongTensor(text.data.numpy().clip(min=0)))\n",
    "        forward = self.forward(text)\n",
    "        for i in forward:\n",
    "            if i == -1:\n",
    "                predicts.append(2)\n",
    "            else:\n",
    "                predicts.append(1)\n",
    "        return predicts\n",
    "                \n",
    "    \n",
    "    def train(self):\n",
    "        for batch in train_iter:\n",
    "            #batch.text = Variable(torch.LongTensor(batch.text.data.numpy().clip(min=0)))\n",
    "            batch.text = semantic_transform(batch)\n",
    "            self.N_plus += torch.sum(batch.label == 1).data[0]\n",
    "            self.N_minus += torch.sum(batch.label == 2).data[0]\n",
    "            if torch.sum(batch.label == 1).data[0] > 0:\n",
    "                pos = torch.t(batch.text)[torch.squeeze(torch.nonzero((batch.label == 1).data))]\n",
    "                self.p.weight.data += np.sum(np.apply_along_axis(to_1hot, 1, pos.data.numpy()))\n",
    "            if torch.sum(batch.label == 2).data[0] > 0:\n",
    "                neg = torch.t(batch.text)[torch.squeeze(torch.nonzero((batch.label == 2).data))]\n",
    "                self.q.weight.data += np.sum(np.apply_along_axis(to_1hot, 1, neg.data.numpy()))"
   ]
  },
  {
   "cell_type": "code",
   "execution_count": 34,
   "metadata": {
    "collapsed": true
   },
   "outputs": [],
   "source": [
    "def test(model):\n",
    "    \"All models should be able to be run with following command.\"\n",
    "    upload = []\n",
    "    # Update: for kaggle the bucket iterator needs to have batch_size 10\n",
    "    #test_iter = torchtext.data.BucketIterator(test, train=False, batch_size=10)\n",
    "    for batch in test_iter:\n",
    "        # Your prediction data here (don't cheat!)\n",
    "        probs = model.predict(batch.text)\n",
    "        upload += probs\n",
    "    return upload"
   ]
  },
  {
   "cell_type": "code",
   "execution_count": 35,
   "metadata": {
    "collapsed": true
   },
   "outputs": [],
   "source": [
    "model_1 = NB_uni(TEXT.vocab.vectors.size()[0])\n",
    "model_1.train()\n",
    "upload = []\n",
    "for batch in test_iter:\n",
    "    # Your prediction data here (don't cheat!)\n",
    "    batch.text = semantic_transform(batch)\n",
    "    probs = model_1.predict(batch.text)\n",
    "    upload += probs\n",
    "#         _, argmax = probs.max(1)\n",
    "#         upload += list(argmax.data)"
   ]
  },
  {
   "cell_type": "code",
   "execution_count": 36,
   "metadata": {
    "collapsed": true
   },
   "outputs": [],
   "source": [
    "test_labels = []\n",
    "for batch in test_iter:\n",
    "    test_labels += list(batch.label.data.numpy())"
   ]
  },
  {
   "cell_type": "code",
   "execution_count": 37,
   "metadata": {},
   "outputs": [
    {
     "data": {
      "text/plain": [
       "0.82976386600768803"
      ]
     },
     "execution_count": 37,
     "metadata": {},
     "output_type": "execute_result"
    }
   ],
   "source": [
    "(len(upload) - np.sum(np.abs(np.array(upload) - np.array(test_labels)))) / len(upload)"
   ]
  },
  {
   "cell_type": "code",
   "execution_count": 651,
   "metadata": {
    "collapsed": true
   },
   "outputs": [],
   "source": [
    "def test_model(model):\n",
    "    \"All models should be able to be run with following command.\"\n",
    "    upload = []\n",
    "    # Update: for kaggle the bucket iterator needs to have batch_size 10\n",
    "    #test_iter = torchtext.data.BucketIterator(test, train=False, batch_size=10)\n",
    "    for batch in test_iter:\n",
    "        # Your prediction data here (don't cheat!)\n",
    "        probs = model.predict(batch.text)\n",
    "        upload += probs\n",
    "#         _, argmax = probs.max(1)\n",
    "#         upload += list(argmax.data)\n",
    "    print(len(upload))\n",
    "    with open(\"predictions.txt\", \"w\") as f:\n",
    "        f.write('Id,Cat' + '\\n')\n",
    "        for u in range(len(upload)):\n",
    "            f.write(str(u) + ',' + str(upload[u]) + \"\\n\")"
   ]
  },
  {
   "cell_type": "code",
   "execution_count": 652,
   "metadata": {},
   "outputs": [
    {
     "name": "stdout",
     "output_type": "stream",
     "text": [
      "1821\n"
     ]
    }
   ],
   "source": [
    "test_model(model_1)"
   ]
  },
  {
   "cell_type": "markdown",
   "metadata": {},
   "source": [
    "In addition, you should put up a (short) write-up following the template provided in the repository:  https://github.com/harvard-ml-courses/cs287-s18/blob/master/template/"
   ]
  }
 ],
 "metadata": {
  "kernelspec": {
   "display_name": "Python 3",
   "language": "python",
   "name": "python3"
  },
  "language_info": {
   "codemirror_mode": {
    "name": "ipython",
    "version": 3
   },
   "file_extension": ".py",
   "mimetype": "text/x-python",
   "name": "python",
   "nbconvert_exporter": "python",
   "pygments_lexer": "ipython3",
   "version": "3.5.1"
  }
 },
 "nbformat": 4,
 "nbformat_minor": 2
}
