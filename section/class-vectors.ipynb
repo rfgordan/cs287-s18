{
 "cells": [
  {
   "cell_type": "code",
   "execution_count": 20,
   "metadata": {
    "collapsed": true
   },
   "outputs": [],
   "source": [
    "%matplotlib inline"
   ]
  },
  {
   "cell_type": "code",
   "execution_count": 21,
   "metadata": {
    "collapsed": true
   },
   "outputs": [],
   "source": [
    "import matplotlib.pyplot as plt\n",
    "from matplotlib import offsetbox\n",
    "import torch"
   ]
  },
  {
   "cell_type": "code",
   "execution_count": 22,
   "metadata": {
    "collapsed": true
   },
   "outputs": [],
   "source": [
    "import numpy as np\n",
    "from numpy.linalg import norm"
   ]
  },
  {
   "cell_type": "code",
   "execution_count": 23,
   "metadata": {
    "collapsed": true
   },
   "outputs": [],
   "source": [
    "import gzip\n",
    "words = []\n",
    "vectors = []\n",
    "\n",
    "for i, l in enumerate(gzip.open(\"../../hw/HW2/data/glove.6B.50d.txt.gz\")):\n",
    "    t = l.strip().split()\n",
    "    words.append(t[0].decode())\n",
    "    vectors.append(list(map(float, t[1:])))\n",
    "    if i > 500000:\n",
    "        break"
   ]
  },
  {
   "cell_type": "code",
   "execution_count": 24,
   "metadata": {
    "collapsed": true
   },
   "outputs": [],
   "source": [
    "wordvecs = np.array(vectors, dtype=np.double)"
   ]
  },
  {
   "cell_type": "code",
   "execution_count": 25,
   "metadata": {
    "collapsed": true
   },
   "outputs": [],
   "source": [
    "word2id = {word:i for i, word in enumerate(words)}"
   ]
  },
  {
   "cell_type": "code",
   "execution_count": null,
   "metadata": {
    "collapsed": true
   },
   "outputs": [],
   "source": []
  },
  {
   "cell_type": "code",
   "execution_count": 26,
   "metadata": {},
   "outputs": [
    {
     "data": {
      "text/plain": [
       "3264"
      ]
     },
     "execution_count": 26,
     "metadata": {},
     "output_type": "execute_result"
    }
   ],
   "source": [
    "word2id[\"athens\"]"
   ]
  },
  {
   "cell_type": "code",
   "execution_count": 27,
   "metadata": {},
   "outputs": [
    {
     "data": {
      "text/plain": [
       "array([-0.080518 ,  1.0627   ,  0.14356  ,  0.51284  , -0.86614  ,\n",
       "       -0.87747  , -0.081332 ,  0.62346  , -1.0791   , -0.26803  ,\n",
       "        0.042063 , -1.1343   , -0.41609  , -0.44612  ,  0.75472  ,\n",
       "        0.39791  ,  0.26783  ,  0.60382  , -1.1654   ,  0.2434   ,\n",
       "        0.65747  , -0.089722 , -1.0805   ,  0.016183 ,  0.5644   ,\n",
       "       -1.4807   ,  0.26113  , -0.0033073, -1.0285   , -0.34615  ,\n",
       "        1.4185   ,  0.80099  , -0.24248  , -0.45811  , -0.030437 ,\n",
       "        0.17815  ,  0.83084  ,  0.14041  , -0.14673  ,  0.35092  ,\n",
       "       -0.46702  , -0.22738  ,  0.71731  , -0.29418  ,  0.35399  ,\n",
       "        0.34459  , -0.27677  ,  0.56476  ,  0.75872  , -1.3752   ])"
      ]
     },
     "execution_count": 27,
     "metadata": {},
     "output_type": "execute_result"
    }
   ],
   "source": [
    "wordvecs[word2id[\"athens\"]]"
   ]
  },
  {
   "cell_type": "code",
   "execution_count": 28,
   "metadata": {
    "collapsed": true
   },
   "outputs": [],
   "source": [
    "def nearest(vec, dot=False):\n",
    "    vnorm = norm(vec)\n",
    "    scores = []\n",
    "    for i in range(len(words)):\n",
    "        wvnorm = norm(wordvecs[i])\n",
    "        if not dot:\n",
    "            scores.append(np.dot(wordvecs[i], vec) / (vnorm * wvnorm))\n",
    "        else:\n",
    "            scores.append(np.dot(wordvecs[i], vec))\n",
    "    score_ids = [(s, i) for i, s in enumerate(scores)]\n",
    "    score_ids.sort()\n",
    "    score_ids.reverse()\n",
    "    return score_ids"
   ]
  },
  {
   "cell_type": "code",
   "execution_count": 29,
   "metadata": {
    "collapsed": true
   },
   "outputs": [],
   "source": [
    "closests = nearest(wordvecs[word2id[\"athens\"]])"
   ]
  },
  {
   "cell_type": "code",
   "execution_count": 30,
   "metadata": {},
   "outputs": [
    {
     "name": "stdout",
     "output_type": "stream",
     "text": [
      "athens\t1.0\n",
      "thessaloniki\t0.7532964581170345\n",
      "budapest\t0.7422959237428817\n",
      "bucharest\t0.7227211076847707\n",
      "istanbul\t0.7199855968137296\n",
      "greece\t0.7171782436368204\n",
      "beijing\t0.709548054230564\n",
      "seoul\t0.6979879922369402\n",
      "piraeus\t0.6904710845955688\n",
      "sydney\t0.688954838557876\n",
      "olympics\t0.6805295148730786\n",
      "acropolis\t0.6794105950324268\n",
      "prague\t0.6763434761057471\n",
      "moscow\t0.6735894301588881\n",
      "olympic\t0.6717382125122783\n",
      "stockholm\t0.6709350830491284\n",
      "saturday\t0.6656054504390918\n",
      "osaka\t0.6584513411045837\n",
      "canberra\t0.658331596849101\n",
      "tokyo\t0.6574943729510774\n"
     ]
    }
   ],
   "source": [
    "def print_nbest(closests):\n",
    "    for score, i in closests[:20]:\n",
    "        print(\"%s\\t%s\"%(words[i],score))\n",
    "print_nbest(closests)"
   ]
  },
  {
   "cell_type": "code",
   "execution_count": 31,
   "metadata": {
    "collapsed": true
   },
   "outputs": [],
   "source": [
    "def analogy_vec(a, b, c):\n",
    "    return wordvecs[word2id[b]] - wordvecs[word2id[a]] + wordvecs[word2id[c]]"
   ]
  },
  {
   "cell_type": "code",
   "execution_count": 32,
   "metadata": {},
   "outputs": [
    {
     "name": "stdout",
     "output_type": "stream",
     "text": [
      "woman\t0.8903914113632075\n",
      "girl\t0.8453726146326286\n",
      "man\t0.8301757602547879\n",
      "her\t0.7845831508513259\n",
      "boy\t0.7763066318821366\n",
      "she\t0.7619764378563795\n",
      "herself\t0.7597628262240992\n",
      "blind\t0.7296755455448719\n",
      "mother\t0.7230340111204357\n",
      "blonde\t0.7136143547397359\n",
      "stranger\t0.7009638379988001\n",
      "girls\t0.7003802920133531\n",
      "girlfriend\t0.6982425716482145\n",
      "old\t0.6968970351173975\n",
      "lover\t0.6961711056646905\n",
      "eyes\t0.6935599534369058\n",
      "young\t0.6931815901719369\n",
      "female\t0.6920879835512826\n",
      "teenager\t0.6889370806579519\n",
      "blond\t0.6884889575259089\n"
     ]
    }
   ],
   "source": [
    "d = analogy_vec(\"king\", \"queen\", \"man\")\n",
    "print_nbest(nearest(d))"
   ]
  },
  {
   "cell_type": "code",
   "execution_count": 14,
   "metadata": {},
   "outputs": [
    {
     "name": "stdout",
     "output_type": "stream",
     "text": [
      "oslo\t0.8009408808046059\n",
      "norway\t0.724581222222652\n",
      "cyprus\t0.7106035029236297\n",
      "accord\t0.6723660595197362\n",
      "iceland\t0.6699855091356302\n",
      "pact\t0.6689833344860368\n",
      "accords\t0.6677311016802431\n",
      "palestine\t0.6663395537765883\n",
      "brokered\t0.6567744608129797\n",
      "agreement\t0.6545912646550025\n",
      "norwegian\t0.6536025429801965\n",
      "treaty\t0.6421235351617722\n",
      "ankara\t0.6418302994284169\n",
      "copenhagen\t0.6320540927368026\n",
      "greece\t0.6311644289875389\n",
      "malta\t0.62869558130703\n",
      "cypriots\t0.628685760458512\n",
      "accession\t0.6258452283697028\n",
      "plo\t0.6247091597349995\n",
      "baltic\t0.6137234548297547\n"
     ]
    }
   ],
   "source": [
    "d = analogy_vec(\"athens\", \"greece\", \"oslo\")\n",
    "print_nbest(nearest(d))"
   ]
  },
  {
   "cell_type": "code",
   "execution_count": 36,
   "metadata": {
    "collapsed": true
   },
   "outputs": [],
   "source": [
    "to_show = [w.lower() for w in [\"london\", \"england\",\n",
    "\"Athens\", \"Greece\",\n",
    "\"Berlin\",\"Germany\",\n",
    "\"Madrid\",\"Spain\",\n",
    "\"Rome\",\"Italy\",\n",
    "\"Paris\",\"France\",\n",
    "\"Bucharest\", \"Romania\",\n",
    "\"Budapest\", \"Hungary\",\n",
    "\"Vienna\", \"Austria\",\n",
    "\"Warsaw\", \"Poland\"]]\n",
    "\n",
    "to_show_vecs = [wordvecs[word2id[w]] for w in to_show ]\n",
    "\n"
   ]
  },
  {
   "cell_type": "code",
   "execution_count": 33,
   "metadata": {
    "collapsed": true
   },
   "outputs": [],
   "source": [
    "to_show = [w.lower() for w in [\"woods\", \"golf\",\n",
    "\"agassi\", \"tennis\",\n",
    "\"bonds\",\"baseball\",\n",
    "\"manning\", \"football\",\n",
    "\"gretzky\",\"hockey\",\n",
    "\"jordan\",\"basketball\"\n",
    "]]\n",
    "\n",
    "to_show_vecs = [wordvecs[word2id[w]] for w in to_show ]\n"
   ]
  },
  {
   "cell_type": "code",
   "execution_count": 34,
   "metadata": {
    "collapsed": true
   },
   "outputs": [],
   "source": [
    "import sklearn.decomposition\n",
    "t = sklearn.decomposition.PCA(2)\n",
    "X_pca = t.fit_transform(to_show_vecs)"
   ]
  },
  {
   "cell_type": "code",
   "execution_count": 18,
   "metadata": {
    "collapsed": true
   },
   "outputs": [],
   "source": [
    "def plot_embedding(X, words, title=None, size=(3,3)):\n",
    "    x_min, x_max = np.min(X, 0), np.max(X, 0)\n",
    "    X = (X - x_min) / (x_max - x_min)\n",
    "\n",
    "    plt.figure(figsize=size)\n",
    "    ax = plt.subplot(111)\n",
    "    ids = {}\n",
    "    \n",
    "\n",
    "    for i in range(X.shape[0]):\n",
    "        letter = words[i]\n",
    "        ax.plot(X[i, 0], X[i, 1],\".\")\n",
    "        ax.annotate(letter, (X[i, 0], X[i, 1]), fontsize=30) \n",
    "        if i % 2 == 0:\n",
    "            ax.plot((X[i,0], X[i+1,0]), (X[i,1], X[i+1,1]))           \n",
    "\n",
    "    plt.xticks([]), plt.yticks([])\n",
    "    plt.axis('off')\n",
    "    \n",
    "    if title is not None:\n",
    "        plt.title(title)\n",
    "    plt.subplots_adjust(left=-0.2, right=1.2, top=1.2, bottom=-0.2)\n",
    "    #plt.savefig(\"linear.png\", dpi=100)"
   ]
  },
  {
   "cell_type": "code",
   "execution_count": 37,
   "metadata": {},
   "outputs": [
    {
     "data": {
      "image/png": "[encoded data removed]",
      "text/plain": [
       "<matplotlib.figure.Figure at 0x7faf409b1470>"
      ]
     },
     "metadata": {},
     "output_type": "display_data"
    }
   ],
   "source": [
    "plot_embedding(X_pca, to_show, size=(10,10))"
   ]
  },
  {
   "cell_type": "code",
   "execution_count": 38,
   "metadata": {},
   "outputs": [
    {
     "name": "stdout",
     "output_type": "stream",
     "text": [
      "dog\t0.9999999999999999\n",
      "cat\t0.9218005273769252\n",
      "dogs\t0.8513158704257433\n",
      "horse\t0.7907582983221715\n",
      "puppy\t0.7754921210339847\n",
      "pet\t0.7724707346105002\n",
      "rabbit\t0.772081457264645\n",
      "pig\t0.7490061600379803\n",
      "snake\t0.7399188488797607\n",
      "baby\t0.7395570283883771\n",
      "bite\t0.7387937008159012\n",
      "boy\t0.7382799469245885\n",
      "cats\t0.7299785777480751\n",
      "animal\t0.7252255237339141\n",
      "monkey\t0.7247206950047795\n",
      "rat\t0.7245846453953351\n",
      "mad\t0.7244354883521754\n",
      "crazy\t0.7157995791103164\n",
      "man\t0.7121925584125339\n",
      "elephant\t0.7117622298048766\n"
     ]
    }
   ],
   "source": [
    "print_nbest(nearest(wordvecs[word2id[\"dog\"]]))"
   ]
  },
  {
   "cell_type": "code",
   "execution_count": 40,
   "metadata": {},
   "outputs": [
    {
     "name": "stdout",
     "output_type": "stream",
     "text": [
      "dog\t23.600607992182287\n",
      "dogs\t20.127214660386997\n",
      "you\t20.042543177050998\n",
      "horse\t19.75030601280904\n",
      "cat\t19.739068485226\n",
      "your\t19.233642485134006\n",
      "eat\t19.032687705672\n",
      "my\t18.916436206527997\n",
      "boy\t18.799658013923\n",
      "girl\t18.637389759949\n",
      "baby\t18.575685540766997\n",
      "eating\t18.401085463039998\n",
      "animals\t18.205859504321\n",
      "man\t18.145220792819995\n",
      "woman\t17.902702574754798\n",
      "animal\t17.801982997809002\n",
      "pet\t17.647616395009\n",
      "fish\t17.615063320408\n",
      "'m\t17.58356783606\n",
      "europe/africa\t17.5797524795996\n"
     ]
    }
   ],
   "source": [
    "print_nbest(nearest(wordvecs[word2id[\"dog\"]], dot=True))"
   ]
  },
  {
   "cell_type": "code",
   "execution_count": 41,
   "metadata": {
    "collapsed": true
   },
   "outputs": [],
   "source": [
    "from tensorboardX import SummaryWriter"
   ]
  },
  {
   "cell_type": "code",
   "execution_count": 42,
   "metadata": {
    "collapsed": true
   },
   "outputs": [],
   "source": [
    "writer = SummaryWriter()"
   ]
  },
  {
   "cell_type": "code",
   "execution_count": 51,
   "metadata": {},
   "outputs": [
    {
     "name": "stdout",
     "output_type": "stream",
     "text": [
      "Help on method add_embedding in module tensorboardX.writer:\n",
      "\n",
      "add_embedding(mat, metadata=None, label_img=None, global_step=None, tag='default') method of tensorboardX.writer.SummaryWriter instance\n",
      "    Add embedding projector data to summary.\n",
      "    \n",
      "    Args:\n",
      "        mat (torch.Tensor): A matrix which each row is the feature vector of the data point\n",
      "        metadata (list): A list of labels, each element will be convert to string\n",
      "        label_img (torch.Tensor): Images correspond to each data point\n",
      "        global_step (int): Global step value to record\n",
      "        tag (string): Name for the embedding\n",
      "    Shape:\n",
      "        mat: :math:`(N, D)`, where N is number of data and D is feature dimension\n",
      "    \n",
      "        label_img: :math:`(N, C, H, W)`\n",
      "    \n",
      "    Examples::\n",
      "    \n",
      "        import keyword\n",
      "        import torch\n",
      "        meta = []\n",
      "        while len(meta)<100:\n",
      "            meta = meta+keyword.kwlist # get some strings\n",
      "        meta = meta[:100]\n",
      "    \n",
      "        for i, v in enumerate(meta):\n",
      "            meta[i] = v+str(i)\n",
      "    \n",
      "        label_img = torch.rand(100, 3, 10, 32)\n",
      "        for i in range(100):\n",
      "            label_img[i]*=i/100.0\n",
      "    \n",
      "        writer.add_embedding(torch.randn(100, 5), metadata=meta, label_img=label_img)\n",
      "        writer.add_embedding(torch.randn(100, 5), label_img=label_img)\n",
      "        writer.add_embedding(torch.randn(100, 5), metadata=meta)\n",
      "\n"
     ]
    }
   ],
   "source": [
    "help(writer.add_embedding)"
   ]
  },
  {
   "cell_type": "code",
   "execution_count": 43,
   "metadata": {
    "collapsed": true
   },
   "outputs": [],
   "source": [
    "writer.add_embedding(torch.FloatTensor(wordvecs[:5000    ]), tag=\"words\", metadata=words[:5000] )"
   ]
  },
  {
   "cell_type": "code",
   "execution_count": 44,
   "metadata": {
    "collapsed": true
   },
   "outputs": [],
   "source": [
    "writer.close()"
   ]
  }
 ],
 "metadata": {
  "kernelspec": {
   "display_name": "Python 3",
   "language": "python",
   "name": "python3"
  },
  "language_info": {
   "codemirror_mode": {
    "name": "ipython",
    "version": 3
   },
   "file_extension": ".py",
   "mimetype": "text/x-python",
   "name": "python",
   "nbconvert_exporter": "python",
   "pygments_lexer": "ipython3",
   "version": "3.5.2"
  }
 },
 "nbformat": 4,
 "nbformat_minor": 1
}
